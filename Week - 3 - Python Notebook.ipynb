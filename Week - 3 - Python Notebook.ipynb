{
 "cells": [
  {
   "cell_type": "markdown",
   "metadata": {},
   "source": [
    "<h3> Functions and Methods <h3>"
   ]
  },
  {
   "cell_type": "code",
   "execution_count": 1,
   "metadata": {},
   "outputs": [],
   "source": [
    "#Methods are functions defined in classes"
   ]
  },
  {
   "cell_type": "code",
   "execution_count": 2,
   "metadata": {},
   "outputs": [],
   "source": [
    "def print_something():\n",
    "    print(\"Yo-yo Ma is a great musician\")"
   ]
  },
  {
   "cell_type": "code",
   "execution_count": 3,
   "metadata": {},
   "outputs": [
    {
     "name": "stdout",
     "output_type": "stream",
     "text": [
      "Yo-yo Ma is a great musician\n"
     ]
    }
   ],
   "source": [
    "print_something()"
   ]
  },
  {
   "cell_type": "code",
   "execution_count": 4,
   "metadata": {},
   "outputs": [],
   "source": [
    "#Upper case text\n",
    "def edit_text(inp_string):\n",
    "    res = inp_string.upper()\n",
    "    print(res)"
   ]
  },
  {
   "cell_type": "code",
   "execution_count": 5,
   "metadata": {},
   "outputs": [
    {
     "name": "stdout",
     "output_type": "stream",
     "text": [
      "KOOKABURRA\n"
     ]
    }
   ],
   "source": [
    "edit_text(\"Kookaburra\")"
   ]
  },
  {
   "cell_type": "code",
   "execution_count": 6,
   "metadata": {},
   "outputs": [],
   "source": [
    "#Do some math\n",
    "\n",
    "import math\n",
    "\n",
    "def f(x):\n",
    "    res = 1/(1+math.exp(-x))\n",
    "    print res"
   ]
  },
  {
   "cell_type": "code",
   "execution_count": 7,
   "metadata": {},
   "outputs": [
    {
     "name": "stdout",
     "output_type": "stream",
     "text": [
      "0.970687769249\n"
     ]
    }
   ],
   "source": [
    "f(3.5)"
   ]
  },
  {
   "cell_type": "code",
   "execution_count": 8,
   "metadata": {},
   "outputs": [],
   "source": [
    "#Example function to count the number of words in a string of text \n",
    "\n",
    "def count_words(input_text):\n",
    "    return len(input_text.split())"
   ]
  },
  {
   "cell_type": "code",
   "execution_count": 9,
   "metadata": {},
   "outputs": [
    {
     "data": {
      "text/plain": [
       "5"
      ]
     },
     "execution_count": 9,
     "metadata": {},
     "output_type": "execute_result"
    }
   ],
   "source": [
    "count_words(\"Old MacDonald had a farm\")"
   ]
  },
  {
   "cell_type": "code",
   "execution_count": 10,
   "metadata": {},
   "outputs": [],
   "source": [
    "#Capitalize text that only start with the letter J\n",
    "\n",
    "def selective_cap(input_text):\n",
    "    if input_text[0].lower() == 'j':\n",
    "        return input_text.capitalize()\n",
    "    else:\n",
    "        return input_text"
   ]
  },
  {
   "cell_type": "code",
   "execution_count": 11,
   "metadata": {},
   "outputs": [
    {
     "data": {
      "text/plain": [
       "'Jaeggermeister'"
      ]
     },
     "execution_count": 11,
     "metadata": {},
     "output_type": "execute_result"
    }
   ],
   "source": [
    "selective_cap(\"jaeggermeister\")"
   ]
  },
  {
   "cell_type": "code",
   "execution_count": 12,
   "metadata": {},
   "outputs": [
    {
     "data": {
      "text/plain": [
       "'negroni'"
      ]
     },
     "execution_count": 12,
     "metadata": {},
     "output_type": "execute_result"
    }
   ],
   "source": [
    "selective_cap(\"negroni\")"
   ]
  },
  {
   "cell_type": "markdown",
   "metadata": {},
   "source": [
    "<h4> Arbitrary Arguments and key word arguments <h4>"
   ]
  },
  {
   "cell_type": "code",
   "execution_count": 13,
   "metadata": {},
   "outputs": [],
   "source": [
    "def summation(num1,num2):\n",
    "    return num1+num2"
   ]
  },
  {
   "cell_type": "code",
   "execution_count": 14,
   "metadata": {},
   "outputs": [
    {
     "data": {
      "text/plain": [
       "5"
      ]
     },
     "execution_count": 14,
     "metadata": {},
     "output_type": "execute_result"
    }
   ],
   "source": [
    "summation(2,3)"
   ]
  },
  {
   "cell_type": "code",
   "execution_count": 15,
   "metadata": {},
   "outputs": [],
   "source": [
    "# *args"
   ]
  },
  {
   "cell_type": "code",
   "execution_count": 16,
   "metadata": {},
   "outputs": [],
   "source": [
    "#Add arbitrary number of arguments\n",
    "\n",
    "def summation_2(*args):\n",
    "    return sum(args)"
   ]
  },
  {
   "cell_type": "code",
   "execution_count": 17,
   "metadata": {},
   "outputs": [
    {
     "data": {
      "text/plain": [
       "161"
      ]
     },
     "execution_count": 17,
     "metadata": {},
     "output_type": "execute_result"
    }
   ],
   "source": [
    "summation_2(59,49,21,32)"
   ]
  },
  {
   "cell_type": "code",
   "execution_count": 18,
   "metadata": {},
   "outputs": [],
   "source": [
    "# Join arbitrary number of lists into one list\n",
    "import itertools\n",
    "\n",
    "def join_lists(*args):\n",
    "    temp= list(itertools.chain(args))\n",
    "    return [item for sublist in temp for item in sublist]"
   ]
  },
  {
   "cell_type": "code",
   "execution_count": 19,
   "metadata": {},
   "outputs": [
    {
     "data": {
      "text/plain": [
       "['Ragoo',\n",
       " 20,\n",
       " 30,\n",
       " 40,\n",
       " 50,\n",
       " 'Ragtag',\n",
       " 'Jambalaya',\n",
       " 30,\n",
       " 90,\n",
       " 'Crawlfish Pie',\n",
       " 'Fillet Gumbo',\n",
       " 60,\n",
       " 80]"
      ]
     },
     "execution_count": 19,
     "metadata": {},
     "output_type": "execute_result"
    }
   ],
   "source": [
    "join_lists(['Ragoo', 20, 30, 40, 50], ['Ragtag','Jambalaya', 30, 90], ['Crawlfish Pie', 'Fillet Gumbo', 60, 80])"
   ]
  },
  {
   "cell_type": "code",
   "execution_count": 20,
   "metadata": {},
   "outputs": [],
   "source": [
    "def my_func(*rambo):\n",
    "    print(rambo)"
   ]
  },
  {
   "cell_type": "code",
   "execution_count": 21,
   "metadata": {},
   "outputs": [
    {
     "name": "stdout",
     "output_type": "stream",
     "text": [
      "('att', 'roxanne', 2, 3, 4)\n"
     ]
    }
   ],
   "source": [
    "my_func(\"att\",\"roxanne\",2,3,4)"
   ]
  },
  {
   "cell_type": "code",
   "execution_count": 22,
   "metadata": {},
   "outputs": [],
   "source": [
    "#Prints key-value pairs for dictionary\n",
    "\n",
    "def example_func(**kwargs):\n",
    "    return kwargs"
   ]
  },
  {
   "cell_type": "code",
   "execution_count": 23,
   "metadata": {},
   "outputs": [
    {
     "data": {
      "text/plain": [
       "{'hockey': 400, 'run': 100, 'swim': 200}"
      ]
     },
     "execution_count": 23,
     "metadata": {},
     "output_type": "execute_result"
    }
   ],
   "source": [
    "example_func(run=100, swim=200, hockey=400)"
   ]
  },
  {
   "cell_type": "code",
   "execution_count": 24,
   "metadata": {},
   "outputs": [],
   "source": [
    "dict_inp = example_func(run=100, swim=200, hockey=400)"
   ]
  },
  {
   "cell_type": "code",
   "execution_count": 25,
   "metadata": {},
   "outputs": [],
   "source": [
    "def if_key_present(dict_inp, keyword):\n",
    "    if keyword in dict_inp.keys():\n",
    "        print(\"In the set of keys of the dictionary !\")\n",
    "    else:\n",
    "        print(\"Not in the set of keys of the dictionary.\")"
   ]
  },
  {
   "cell_type": "code",
   "execution_count": 26,
   "metadata": {},
   "outputs": [
    {
     "name": "stdout",
     "output_type": "stream",
     "text": [
      "In the set of keys of the dictionary !\n"
     ]
    }
   ],
   "source": [
    "if_key_present(dict_inp, 'hockey')"
   ]
  },
  {
   "cell_type": "code",
   "execution_count": 27,
   "metadata": {},
   "outputs": [
    {
     "name": "stdout",
     "output_type": "stream",
     "text": [
      "Not in the set of keys of the dictionary.\n"
     ]
    }
   ],
   "source": [
    "if_key_present(dict_inp, 'ramalingam')"
   ]
  },
  {
   "cell_type": "code",
   "execution_count": 28,
   "metadata": {},
   "outputs": [],
   "source": [
    "def divide(number):\n",
    "    return float(number)/2"
   ]
  },
  {
   "cell_type": "code",
   "execution_count": 29,
   "metadata": {},
   "outputs": [
    {
     "data": {
      "text/plain": [
       "5.0"
      ]
     },
     "execution_count": 29,
     "metadata": {},
     "output_type": "execute_result"
    }
   ],
   "source": [
    "divide(10)"
   ]
  },
  {
   "cell_type": "code",
   "execution_count": 30,
   "metadata": {},
   "outputs": [],
   "source": [
    "my_list = [2,4,6,8,9,10]"
   ]
  },
  {
   "cell_type": "code",
   "execution_count": 31,
   "metadata": {},
   "outputs": [],
   "source": [
    "#Divide list by number\n",
    "\n",
    "def divide_list_by_number(inp_list, divisor):\n",
    "    return [float(i)/divisor for i in inp_list]"
   ]
  },
  {
   "cell_type": "code",
   "execution_count": 32,
   "metadata": {},
   "outputs": [
    {
     "data": {
      "text/plain": [
       "[0.5, 1.0, 1.5, 2.0, 2.25, 2.5]"
      ]
     },
     "execution_count": 32,
     "metadata": {},
     "output_type": "execute_result"
    }
   ],
   "source": [
    "divide_list_by_number(my_list, 4)"
   ]
  },
  {
   "cell_type": "markdown",
   "metadata": {},
   "source": [
    "<h4> Using map <h4>"
   ]
  },
  {
   "cell_type": "code",
   "execution_count": 33,
   "metadata": {},
   "outputs": [
    {
     "data": {
      "text/plain": [
       "[1.0, 2.0, 3.0, 4.0, 4.5, 5.0]"
      ]
     },
     "execution_count": 33,
     "metadata": {},
     "output_type": "execute_result"
    }
   ],
   "source": [
    "list(map(divide, my_list))"
   ]
  },
  {
   "cell_type": "code",
   "execution_count": 34,
   "metadata": {},
   "outputs": [],
   "source": [
    "def control_string(string):\n",
    "    if \"Metallica\" in string:\n",
    "        return string"
   ]
  },
  {
   "cell_type": "code",
   "execution_count": 35,
   "metadata": {},
   "outputs": [
    {
     "data": {
      "text/plain": [
       "'Metallica sucks'"
      ]
     },
     "execution_count": 35,
     "metadata": {},
     "output_type": "execute_result"
    }
   ],
   "source": [
    "control_string(\"Metallica sucks\")"
   ]
  },
  {
   "cell_type": "code",
   "execution_count": 36,
   "metadata": {},
   "outputs": [],
   "source": [
    "control_string(\"RunDMC is cool.\")"
   ]
  },
  {
   "cell_type": "markdown",
   "metadata": {},
   "source": [
    "<h4> filter <h4>"
   ]
  },
  {
   "cell_type": "code",
   "execution_count": 37,
   "metadata": {},
   "outputs": [
    {
     "data": {
      "text/plain": [
       "['Metallica2', 'Metallica']"
      ]
     },
     "execution_count": 37,
     "metadata": {},
     "output_type": "execute_result"
    }
   ],
   "source": [
    "#Filters list to see if string present\n",
    "\n",
    "my_artist_list = ['Metallica2','Rammstein','Belfegore','Porcupine Tree','Metallica']\n",
    "\n",
    "list(filter(control_string,my_artist_list))"
   ]
  },
  {
   "cell_type": "markdown",
   "metadata": {},
   "source": [
    "<h3> Scope <h3>"
   ]
  },
  {
   "cell_type": "code",
   "execution_count": 38,
   "metadata": {},
   "outputs": [],
   "source": [
    "number = 10\n",
    "\n",
    "def multiply(num):\n",
    "    number = 10\n",
    "    return num*10"
   ]
  },
  {
   "cell_type": "code",
   "execution_count": 39,
   "metadata": {},
   "outputs": [
    {
     "data": {
      "text/plain": [
       "20"
      ]
     },
     "execution_count": 39,
     "metadata": {},
     "output_type": "execute_result"
    }
   ],
   "source": [
    "multiply(2)"
   ]
  },
  {
   "cell_type": "markdown",
   "metadata": {},
   "source": [
    "<h3> LEGB rule <h3>"
   ]
  },
  {
   "cell_type": "markdown",
   "metadata": {},
   "source": [
    "L : Local\n",
    "E : Enclosing\n",
    "G : Global\n",
    "B : Built-in"
   ]
  },
  {
   "cell_type": "code",
   "execution_count": 40,
   "metadata": {},
   "outputs": [],
   "source": [
    "my_string = 'Rockstar' #Global\n",
    "\n",
    "def my_func():\n",
    "    my_string = 'Kramer'\n",
    "    #Enclosing\n",
    "    \n",
    "    def my_func2():\n",
    "        my_string = 'Aslan'\n",
    "        print(my_string)\n",
    "        #Local\n",
    "        \n",
    "    my_func2()"
   ]
  },
  {
   "cell_type": "code",
   "execution_count": 41,
   "metadata": {},
   "outputs": [
    {
     "name": "stdout",
     "output_type": "stream",
     "text": [
      "Aslan\n"
     ]
    }
   ],
   "source": [
    "my_func() #Local variable inside function takes precedence"
   ]
  },
  {
   "cell_type": "code",
   "execution_count": 42,
   "metadata": {},
   "outputs": [
    {
     "data": {
      "text/plain": [
       "'Rockstar'"
      ]
     },
     "execution_count": 42,
     "metadata": {},
     "output_type": "execute_result"
    }
   ],
   "source": [
    "my_string  #Global variable takes precedence"
   ]
  },
  {
   "cell_type": "code",
   "execution_count": 43,
   "metadata": {},
   "outputs": [],
   "source": [
    "y=10\n",
    "\n",
    "def func(y):\n",
    "    print(y) \n",
    "    y=5\n",
    "    print y"
   ]
  },
  {
   "cell_type": "code",
   "execution_count": 44,
   "metadata": {},
   "outputs": [],
   "source": [
    "y=10\n",
    "\n",
    "def func():\n",
    "    global y #Alternatively, declare as global variable here \n",
    "    print(y) #Prints global variable y\n",
    "    y=5 #Sets global variable to 5\n",
    "    print(y)\n",
    "    \n",
    "def func_2():\n",
    "    global y\n",
    "    print y"
   ]
  },
  {
   "cell_type": "code",
   "execution_count": 45,
   "metadata": {},
   "outputs": [
    {
     "name": "stdout",
     "output_type": "stream",
     "text": [
      "10\n",
      "5\n"
     ]
    }
   ],
   "source": [
    "func()"
   ]
  },
  {
   "cell_type": "code",
   "execution_count": 46,
   "metadata": {},
   "outputs": [
    {
     "name": "stdout",
     "output_type": "stream",
     "text": [
      "5\n"
     ]
    }
   ],
   "source": [
    "func_2()"
   ]
  },
  {
   "cell_type": "code",
   "execution_count": 47,
   "metadata": {},
   "outputs": [],
   "source": [
    "#Alternatively\n",
    "\n",
    "y=10\n",
    "\n",
    "def func(y):\n",
    "    y=5 #Sets 5 in enclosing-ly\n",
    "    print y\n",
    "    \n",
    "def func_2():\n",
    "    global y #Uses the global variable y\n",
    "    print y #Prints y"
   ]
  },
  {
   "cell_type": "code",
   "execution_count": 48,
   "metadata": {},
   "outputs": [
    {
     "name": "stdout",
     "output_type": "stream",
     "text": [
      "5\n"
     ]
    }
   ],
   "source": [
    "func(10)"
   ]
  },
  {
   "cell_type": "code",
   "execution_count": 49,
   "metadata": {},
   "outputs": [
    {
     "name": "stdout",
     "output_type": "stream",
     "text": [
      "10\n"
     ]
    }
   ],
   "source": [
    "func_2()"
   ]
  },
  {
   "cell_type": "markdown",
   "metadata": {},
   "source": [
    "<h3> OOP : Object-Oriented Programming <h3>"
   ]
  },
  {
   "cell_type": "code",
   "execution_count": 50,
   "metadata": {},
   "outputs": [],
   "source": [
    "#Simple example of a class\n",
    "\n",
    "class my_class():\n",
    "    def __init__(self, x, y):\n",
    "        self.x = x  #Attribute\n",
    "        self.y = y #Attribute"
   ]
  },
  {
   "cell_type": "code",
   "execution_count": 51,
   "metadata": {},
   "outputs": [],
   "source": [
    "#Instantiante an instance of the class\n",
    "\n",
    "class1 = my_class(2,3)"
   ]
  },
  {
   "cell_type": "code",
   "execution_count": 52,
   "metadata": {},
   "outputs": [
    {
     "data": {
      "text/plain": [
       "2"
      ]
     },
     "execution_count": 52,
     "metadata": {},
     "output_type": "execute_result"
    }
   ],
   "source": [
    "class1.x"
   ]
  },
  {
   "cell_type": "code",
   "execution_count": 53,
   "metadata": {},
   "outputs": [
    {
     "data": {
      "text/plain": [
       "3"
      ]
     },
     "execution_count": 53,
     "metadata": {},
     "output_type": "execute_result"
    }
   ],
   "source": [
    "class1.y"
   ]
  },
  {
   "cell_type": "code",
   "execution_count": 54,
   "metadata": {},
   "outputs": [],
   "source": [
    "class Musician():\n",
    "    \n",
    "    job = \"Musician\"  # Class variable\n",
    "    \n",
    "    def __init__(self, name, age, instrument):\n",
    "        self.name = name #Instance variable\n",
    "        self.age = age #Instance variable\n",
    "        self.instrument = instrument #..."
   ]
  },
  {
   "cell_type": "code",
   "execution_count": 55,
   "metadata": {},
   "outputs": [],
   "source": [
    "musician_1 = Musician(\"Ardham\", 24, \"Cello\")"
   ]
  },
  {
   "cell_type": "code",
   "execution_count": 56,
   "metadata": {},
   "outputs": [
    {
     "data": {
      "text/plain": [
       "'Ardham'"
      ]
     },
     "execution_count": 56,
     "metadata": {},
     "output_type": "execute_result"
    }
   ],
   "source": [
    "musician_1.name"
   ]
  },
  {
   "cell_type": "code",
   "execution_count": 57,
   "metadata": {},
   "outputs": [],
   "source": [
    "musician_1.job = 'singer'"
   ]
  },
  {
   "cell_type": "code",
   "execution_count": 58,
   "metadata": {},
   "outputs": [
    {
     "data": {
      "text/plain": [
       "'singer'"
      ]
     },
     "execution_count": 58,
     "metadata": {},
     "output_type": "execute_result"
    }
   ],
   "source": [
    "musician_1.job"
   ]
  },
  {
   "cell_type": "markdown",
   "metadata": {},
   "source": [
    "<h3> Class Methods <h3>"
   ]
  },
  {
   "cell_type": "code",
   "execution_count": 59,
   "metadata": {},
   "outputs": [],
   "source": [
    "class Musician_2():\n",
    "    def __init__(self, name, age, instrument):\n",
    "        self.name = name\n",
    "        self.age = age\n",
    "        self.instrument = instrument\n",
    "        \n",
    "    def sing(self): #Method\n",
    "        print(\"Hi, my name is \"+str(self.name)+ \" and I play the \"+str(self.instrument))  #Need self.name, etc. to refer to specific instance variables"
   ]
  },
  {
   "cell_type": "code",
   "execution_count": 144,
   "metadata": {},
   "outputs": [],
   "source": [
    "musician_2 = Musician_2(\"Araul\", 24, \"Vuvuzela.\")"
   ]
  },
  {
   "cell_type": "code",
   "execution_count": 145,
   "metadata": {},
   "outputs": [
    {
     "name": "stdout",
     "output_type": "stream",
     "text": [
      "Hi, my name is Araul and I play the Vuvuzela.\n"
     ]
    }
   ],
   "source": [
    "musician_2.sing()"
   ]
  },
  {
   "cell_type": "code",
   "execution_count": 62,
   "metadata": {},
   "outputs": [],
   "source": [
    "import math\n",
    "\n",
    "class Circle():\n",
    "    def __init__(self, radius):\n",
    "        self.radius = radius\n",
    "        \n",
    "    def compute_circumference(self):\n",
    "        print(\"The circumference of the circle is \"+ str(2*math.pi*self.radius))\n",
    "        \n",
    "    def compute_area(self):\n",
    "        print(\"The area of the circle is \"+ str(math.pi*(self.radius**2)))"
   ]
  },
  {
   "cell_type": "code",
   "execution_count": 63,
   "metadata": {},
   "outputs": [],
   "source": [
    "Circle_1 = Circle(2.5)"
   ]
  },
  {
   "cell_type": "code",
   "execution_count": 64,
   "metadata": {},
   "outputs": [
    {
     "name": "stdout",
     "output_type": "stream",
     "text": [
      "The circumference of the circle is 15.7079632679\n"
     ]
    }
   ],
   "source": [
    "Circle_1.compute_circumference()"
   ]
  },
  {
   "cell_type": "code",
   "execution_count": 65,
   "metadata": {},
   "outputs": [
    {
     "name": "stdout",
     "output_type": "stream",
     "text": [
      "The area of the circle is 19.6349540849\n"
     ]
    }
   ],
   "source": [
    "Circle_1.compute_area()"
   ]
  },
  {
   "cell_type": "markdown",
   "metadata": {},
   "source": [
    "<h3> A more complex example <h3>"
   ]
  },
  {
   "cell_type": "code",
   "execution_count": 66,
   "metadata": {},
   "outputs": [],
   "source": [
    "import math\n",
    "\n",
    "class Photon_Packet_BlackBody:\n",
    "    # Class representing photon packet from blackbody radiation at temp T\n",
    "    hbar = 1.05457182e-34\n",
    "    c = 3.0e8  # m/s\n",
    "    kb = 1.380649e-23\n",
    "    \n",
    "    def __init__(self, omega, T):\n",
    "        self.omega = omega\n",
    "        self.T = T\n",
    "        \n",
    "    def compute_energy(self):\n",
    "        return Photon_Packet_BlackBody.hbar * self.omega  # Class variables must be called as Photon_Packet_BlackBody.hbar\n",
    "        \n",
    "    def compute_wavelength(self):\n",
    "        return (2 * math.pi * Photon_Packet_BlackBody.c) / self.omega\n",
    "        \n",
    "    def compute_momentum(self):\n",
    "        return (Photon_Packet_BlackBody.hbar * self.omega) / Photon_Packet_BlackBody.c\n",
    "        \n",
    "    def average_occupation_number(self):\n",
    "        return 1 / (math.exp((Photon_Packet_BlackBody.hbar * self.omega) / \n",
    "                             (Photon_Packet_BlackBody.kb * self.T)) - 1)"
   ]
  },
  {
   "cell_type": "code",
   "execution_count": 67,
   "metadata": {},
   "outputs": [
    {
     "name": "stdout",
     "output_type": "stream",
     "text": [
      "('Energy:', 4.2182872800000004e-19, 'J')\n",
      "('Wavelength:', 4.7123889803846896e-07, 'm')\n",
      "('Momentum:', 1.4060957600000002e-27, 'kg m/s')\n",
      "('Occupation number:', 3.775954095848474e-05)\n"
     ]
    }
   ],
   "source": [
    "packet = Photon_Packet_BlackBody(omega=4e15, T=3000)  # Visible photon, hot star\n",
    "print(\"Energy:\", packet.compute_energy(), \"J\")\n",
    "print(\"Wavelength:\", packet.compute_wavelength(), \"m\")\n",
    "print(\"Momentum:\", packet.compute_momentum(), \"kg m/s\")\n",
    "print(\"Occupation number:\", packet.average_occupation_number())"
   ]
  },
  {
   "cell_type": "markdown",
   "metadata": {},
   "source": [
    "<h3> Inheritance <h3>"
   ]
  },
  {
   "cell_type": "markdown",
   "metadata": {},
   "source": [
    "Where methods, class variables and attributes can be passed down from one class(parent class) to another(child class)"
   ]
  },
  {
   "cell_type": "code",
   "execution_count": 68,
   "metadata": {},
   "outputs": [],
   "source": [
    "#Parent Class\n",
    "class nomad_class():\n",
    "    def __init__(self):\n",
    "        print(\"Class 1 created\")\n",
    "        \n",
    "    def method_1(self):\n",
    "        print(\"Method 1\")\n",
    "        \n",
    "    def method_2(self):\n",
    "        print(\"Method 2\")"
   ]
  },
  {
   "cell_type": "code",
   "execution_count": 69,
   "metadata": {},
   "outputs": [
    {
     "name": "stdout",
     "output_type": "stream",
     "text": [
      "Class 1 created\n"
     ]
    }
   ],
   "source": [
    "class_1 = nomad_class()"
   ]
  },
  {
   "cell_type": "code",
   "execution_count": 70,
   "metadata": {},
   "outputs": [
    {
     "name": "stdout",
     "output_type": "stream",
     "text": [
      "Method 1\n"
     ]
    }
   ],
   "source": [
    "class_1.method_1()"
   ]
  },
  {
   "cell_type": "code",
   "execution_count": 71,
   "metadata": {},
   "outputs": [],
   "source": [
    "#Child class\n",
    "class gomad_class(nomad_class):\n",
    "    def __init__(self):\n",
    "        print(\"Class 2 created\")\n",
    "        \n",
    "    #Method 1 will be inherited\n",
    "    \n",
    "    def method_2(self):  #This class would be overwritten, \n",
    "        print(\"Method 2 but forking it\")\n",
    "        \n",
    "    def method_3(self): #New method not in parent class\n",
    "        print(\"Almost like Method 2, but make it dyck language!\")"
   ]
  },
  {
   "cell_type": "code",
   "execution_count": 72,
   "metadata": {},
   "outputs": [
    {
     "name": "stdout",
     "output_type": "stream",
     "text": [
      "Class 2 created\n"
     ]
    }
   ],
   "source": [
    "class_2 = gomad_class()"
   ]
  },
  {
   "cell_type": "code",
   "execution_count": 73,
   "metadata": {},
   "outputs": [
    {
     "name": "stdout",
     "output_type": "stream",
     "text": [
      "Method 1\n"
     ]
    }
   ],
   "source": [
    "class_2.method_1()"
   ]
  },
  {
   "cell_type": "code",
   "execution_count": 74,
   "metadata": {},
   "outputs": [
    {
     "name": "stdout",
     "output_type": "stream",
     "text": [
      "Method 2 but forking it\n"
     ]
    }
   ],
   "source": [
    "class_2.method_2()"
   ]
  },
  {
   "cell_type": "code",
   "execution_count": 75,
   "metadata": {},
   "outputs": [
    {
     "name": "stdout",
     "output_type": "stream",
     "text": [
      "Almost like Method 2, but make it dyck language!\n"
     ]
    }
   ],
   "source": [
    "class_2.method_3()"
   ]
  },
  {
   "cell_type": "markdown",
   "metadata": {},
   "source": [
    "<h3> Special Methods <h3>"
   ]
  },
  {
   "cell_type": "markdown",
   "metadata": {},
   "source": [
    "Dunder/Magic Methods"
   ]
  },
  {
   "cell_type": "code",
   "execution_count": 76,
   "metadata": {},
   "outputs": [],
   "source": [
    "class Fruits():\n",
    "    def __init__(self, name, calories):\n",
    "        self.name = name\n",
    "        self.calories = calories\n",
    "        \n",
    "    def __str__(self): # <--- Dunder method. Can automatically reference instance attributes upon printing class instance.\n",
    "        return \"Hola, I am a \"+str(self.name)+\" and I have \"+str(self.calories)+\" calories.\"  \n",
    "    \n",
    "    def __len__(self):  # <--- Another Dunder method\n",
    "        return self.calories"
   ]
  },
  {
   "cell_type": "code",
   "execution_count": 77,
   "metadata": {},
   "outputs": [],
   "source": [
    "my_fruit = Fruits('durian', 200)"
   ]
  },
  {
   "cell_type": "code",
   "execution_count": 78,
   "metadata": {},
   "outputs": [
    {
     "name": "stdout",
     "output_type": "stream",
     "text": [
      "Hola, I am a durian and I have 200 calories.\n"
     ]
    }
   ],
   "source": [
    "print(my_fruit)"
   ]
  },
  {
   "cell_type": "code",
   "execution_count": 79,
   "metadata": {},
   "outputs": [
    {
     "data": {
      "text/plain": [
       "200"
      ]
     },
     "execution_count": 79,
     "metadata": {},
     "output_type": "execute_result"
    }
   ],
   "source": [
    "len(my_fruit)"
   ]
  },
  {
   "cell_type": "markdown",
   "metadata": {},
   "source": [
    "<h3> Error Handling <h3>"
   ]
  },
  {
   "cell_type": "code",
   "execution_count": 81,
   "metadata": {},
   "outputs": [
    {
     "name": "stdout",
     "output_type": "stream",
     "text": [
      "Enter a number: Laquanda\n",
      "Must enter a number.\n",
      "Finally.\n",
      "Enter a number: 19\n",
      "Okay.\n",
      "Finally.\n"
     ]
    }
   ],
   "source": [
    "while True:\n",
    "    try:\n",
    "        x = int(input(\"Enter a number: \"))\n",
    "    except:\n",
    "        print(\"Must enter a number.\")\n",
    "    else:\n",
    "        print(\"Okay.\")\n",
    "        break\n",
    "    finally:\n",
    "        print(\"Finally.\")"
   ]
  },
  {
   "cell_type": "markdown",
   "metadata": {},
   "source": [
    "<h4> Parent classes can also inherit attributes and class variables, not just methods<h4>"
   ]
  },
  {
   "cell_type": "code",
   "execution_count": 138,
   "metadata": {},
   "outputs": [],
   "source": [
    "#Parent class\n",
    "#class Vehicle(): Python 3 format \n",
    "\n",
    "class Vehicle(object):\n",
    "    def __init__(self, num_wheels, year_of_make, type_of_engine):\n",
    "        self.num_wheels = num_wheels\n",
    "        self.year_of_make  = year_of_make\n",
    "        self.type_of_engine = type_of_engine\n",
    "        \n",
    "    def __str__(self):\n",
    "        return \"The vehicle is a \"+str(self.num_wheels)+\" wheeler \"+\"and its year of make is \"+str(self.year_of_make)+\" with engine of type \"+str(self.type_of_engine)\n",
    "    \n",
    "    \n",
    "#Child class\n",
    "class Car(Vehicle):\n",
    "    def __init__(self, num_wheels, year_of_make, type_of_engine, issuing_company, model_number):\n",
    "        #super().__init__(num_wheels, year_of_make, type_of_engine)  #Python 3 style. Using the super method, the child class can inherit attributes in the parent class\n",
    "        super(Car, self).__init__(num_wheels, year_of_make, type_of_engine)\n",
    "        self.issuing_company = issuing_company\n",
    "        self.model_number = model_number\n",
    "        \n",
    "    def __str__(self):\n",
    "        return \"The vehicle is a \"+str(self.num_wheels)+\" wheeler, is a car, its year of make is \"+str(self.year_of_make)+\" with engine of type \"+str(self.type_of_engine) + \", made by the company \"+str(self.issuing_company)+ \", of model number \"+ str(self.model_number)+\".\""
   ]
  },
  {
   "cell_type": "code",
   "execution_count": 139,
   "metadata": {},
   "outputs": [],
   "source": [
    "vehicle_1 = Vehicle(4, 2016, 'hydrogen fuel cell')"
   ]
  },
  {
   "cell_type": "code",
   "execution_count": 140,
   "metadata": {},
   "outputs": [
    {
     "name": "stdout",
     "output_type": "stream",
     "text": [
      "The vehicle is a 4 wheeler and its year of make is 2016 with engine of type hydrogen fuel cell\n"
     ]
    }
   ],
   "source": [
    "print(vehicle_1)"
   ]
  },
  {
   "cell_type": "code",
   "execution_count": 141,
   "metadata": {},
   "outputs": [
    {
     "name": "stdout",
     "output_type": "stream",
     "text": [
      "The vehicle is a 4 wheeler, is a car, its year of make is 2016 with engine of type hydrogen fuel cell, made by the company Bentley, of model number X43X.\n"
     ]
    }
   ],
   "source": [
    "print(Car(4, 2016, 'hydrogen fuel cell', 'Bentley', 'X43X'))"
   ]
  }
 ],
 "metadata": {
  "kernelspec": {
   "display_name": "Python 2",
   "language": "python",
   "name": "python2"
  },
  "language_info": {
   "codemirror_mode": {
    "name": "ipython",
    "version": 2
   },
   "file_extension": ".py",
   "mimetype": "text/x-python",
   "name": "python",
   "nbconvert_exporter": "python",
   "pygments_lexer": "ipython2",
   "version": "2.7.18"
  }
 },
 "nbformat": 4,
 "nbformat_minor": 2
}
